{
  "cells": [
    {
      "cell_type": "markdown",
      "source": [
        "# Multimodal RAG-based QA Chatbot"
      ],
      "metadata": {
        "id": "KSoVOr7Ylr9w"
      },
      "id": "KSoVOr7Ylr9w"
    },
    {
      "cell_type": "code",
      "source": [],
      "metadata": {
        "id": "F-ZR6qpZlrjO"
      },
      "id": "F-ZR6qpZlrjO",
      "execution_count": null,
      "outputs": []
    },
    {
      "cell_type": "code",
      "source": [],
      "metadata": {
        "id": "hVXFeviClrgv"
      },
      "id": "hVXFeviClrgv",
      "execution_count": null,
      "outputs": []
    },
    {
      "cell_type": "code",
      "source": [],
      "metadata": {
        "id": "MRJtSP4Blrcl"
      },
      "id": "MRJtSP4Blrcl",
      "execution_count": null,
      "outputs": []
    },
    {
      "cell_type": "code",
      "source": [],
      "metadata": {
        "id": "3tjtJ41blram"
      },
      "id": "3tjtJ41blram",
      "execution_count": null,
      "outputs": []
    },
    {
      "cell_type": "code",
      "source": [],
      "metadata": {
        "id": "Z709K9DzlrYF"
      },
      "id": "Z709K9DzlrYF",
      "execution_count": null,
      "outputs": []
    },
    {
      "cell_type": "code",
      "source": [],
      "metadata": {
        "id": "F3tnDtmHlrO9"
      },
      "id": "F3tnDtmHlrO9",
      "execution_count": null,
      "outputs": []
    }
  ],
  "metadata": {
    "kernelspec": {
      "display_name": "Python 3 (ipykernel)",
      "language": "python",
      "name": "python3"
    },
    "language_info": {
      "codemirror_mode": {
        "name": "ipython",
        "version": 3
      },
      "file_extension": ".py",
      "mimetype": "text/x-python",
      "name": "python",
      "nbconvert_exporter": "python",
      "pygments_lexer": "ipython3",
      "version": "3.9.1"
    },
    "colab": {
      "provenance": []
    }
  },
  "nbformat": 4,
  "nbformat_minor": 5
}